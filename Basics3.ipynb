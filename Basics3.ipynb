{
 "cells": [
  {
   "cell_type": "code",
   "execution_count": 7,
   "metadata": {},
   "outputs": [
    {
     "name": "stdout",
     "output_type": "stream",
     "text": [
      "90\n"
     ]
    }
   ],
   "source": [
    "def printEven(n):\n",
    "    cnt=0\n",
    "    sum=0\n",
    "    while(cnt!=n):\n",
    "        if(cnt%2==0):\n",
    "            sum=sum+cnt\n",
    "        cnt=cnt+1\n",
    "    print(sum)\n",
    "printEven(20)        "
   ]
  },
  {
   "cell_type": "code",
   "execution_count": 1,
   "metadata": {},
   "outputs": [
    {
     "name": "stdout",
     "output_type": "stream",
     "text": [
      "1 2 3 4 6 "
     ]
    }
   ],
   "source": [
    "def factorsList(n):\n",
    "    i=1\n",
    "    while(i!=n):\n",
    "        if(n%i==0):\n",
    "            print(i,end=' ')\n",
    "        i=i+1\n",
    "    return\n",
    "factorsList(12)"
   ]
  },
  {
   "cell_type": "code",
   "execution_count": 4,
   "metadata": {},
   "outputs": [
    {
     "name": "stdout",
     "output_type": "stream",
     "text": [
      "[1, 2, 3, 4, 5]\n",
      "1\n"
     ]
    }
   ],
   "source": [
    "list1 =[1,2,3,4,5]\n",
    "print(list1)\n",
    "print(list1[0])"
   ]
  },
  {
   "cell_type": "code",
   "execution_count": 5,
   "metadata": {},
   "outputs": [
    {
     "name": "stdout",
     "output_type": "stream",
     "text": [
      "vasudha madhuri mahema manasa "
     ]
    }
   ],
   "source": [
    "list2=[\"vasudha\",\"madhuri\",\"mahema\",\"manasa\"]\n",
    "for x in list2:\n",
    "    print(x,end=' ')"
   ]
  },
  {
   "cell_type": "code",
   "execution_count": 21,
   "metadata": {},
   "outputs": [
    {
     "name": "stdout",
     "output_type": "stream",
     "text": [
      "1 2 3 4 5 6 7 8 9 10 \n",
      "[3, 4, 5]\n",
      "[1, 3]\n",
      "[1, 2, 3, 4]\n",
      "[2, 3, 4, 5, 6, 7, 8, 9]\n",
      "[3, 4, 5, 6, 7, 8]\n",
      "[1, 3, 5, 7, 9]\n",
      "[1, 4, 7, 10]\n",
      "[10, 8, 6, 4, 2]\n",
      "10\n",
      "9\n"
     ]
    }
   ],
   "source": [
    "list= [1,2,3,4,5,6,7,8,9,10]\n",
    "for x in list:\n",
    "    print(x,end=' ')\n",
    "print()    \n",
    "print(list[2:5])\n",
    "print(list[0:3:2])\n",
    "print(list[:4])\n",
    "print(list[1:-1])\n",
    "print(list[2:-2])\n",
    "print(list[::2])\n",
    "print(list[::3])\n",
    "print(list[::-2])\n",
    "print(list[-1])\n",
    "print(list[-2])"
   ]
  },
  {
   "cell_type": "code",
   "execution_count": 30,
   "metadata": {},
   "outputs": [
    {
     "name": "stdout",
     "output_type": "stream",
     "text": [
      "1 3 5 7 9 "
     ]
    }
   ],
   "source": [
    "for i in range(1,10,2):\n",
    "    print(i,end=' ')"
   ]
  },
  {
   "cell_type": "code",
   "execution_count": 31,
   "metadata": {},
   "outputs": [
    {
     "name": "stdout",
     "output_type": "stream",
     "text": [
      "[0, 1, 2, 3, 4, 5, 6, 7, 8, 9]\n"
     ]
    }
   ],
   "source": [
    "l=[]\n",
    "for i in range(10):\n",
    "    l.append(i)\n",
    "print(l)"
   ]
  },
  {
   "cell_type": "code",
   "execution_count": 36,
   "metadata": {},
   "outputs": [
    {
     "name": "stdout",
     "output_type": "stream",
     "text": [
      "['anil', 'sai', 'akhil', 1]\n",
      "['anil', 'sai', 1]\n",
      "['anil', 'gitam', 1]\n",
      "[1, 2, 3]\n",
      "['anil', 'gitam', 1, 1, 2, 3]\n"
     ]
    }
   ],
   "source": [
    "lst1=[\"anil\",\"sai\",\"akhil\",1]\n",
    "print(lst1)\n",
    "\n",
    "del lst1[2]\n",
    "print(lst1)\n",
    "lst1[1]=\"gitam\"\n",
    "print(lst1)\n",
    "lst2=[1,2,3]\n",
    "print(lst2)\n",
    "print(lst1+lst2)\n"
   ]
  },
  {
   "cell_type": "code",
   "execution_count": 45,
   "metadata": {},
   "outputs": [
    {
     "name": "stdout",
     "output_type": "stream",
     "text": [
      "[1, 2, 3, 4, 5]\n",
      "[1, 2, 4, 5]\n",
      "4\n",
      "[1, 2, 4, 5, 15, 20, 87, 1]\n",
      "2\n"
     ]
    }
   ],
   "source": [
    "list=[1,2,3,4,5]\n",
    "print(list)\n",
    "del list[2]\n",
    "print(list)\n",
    "print(len(list))\n",
    "list.append(15)\n",
    "list.append(20)\n",
    "list.append(87)\n",
    "list.append(1)\n",
    "print(list)\n",
    "print(list.count(1))"
   ]
  },
  {
   "cell_type": "code",
   "execution_count": 55,
   "metadata": {},
   "outputs": [
    {
     "name": "stdout",
     "output_type": "stream",
     "text": [
      "['gitam', 'python', 'raptor', 'jupyter', 1, 20, 'python']\n",
      "['gitam', 'python', 2019, 'raptor', 'jupyter', 1, 20, 'python']\n",
      "['gitam', 2019, 'raptor', 'jupyter', 1, 20, 'python']\n",
      "['gitam', 2019, 'raptor', 'jupyter', 1, 20]\n"
     ]
    }
   ],
   "source": [
    "list=[\"gitam\",\"python\",\"raptor\",\"jupyter\",1,20,\"python\"]\n",
    "print(list)\n",
    "list.index(\"python\")\n",
    "list.index(1)\n",
    "list.insert(2,2019)\n",
    "print(list)\n",
    "list.remove(\"python\")\n",
    "print(list)\n",
    "list.remove(\"python\")\n",
    "print(list)"
   ]
  },
  {
   "cell_type": "code",
   "execution_count": 59,
   "metadata": {},
   "outputs": [
    {
     "name": "stdout",
     "output_type": "stream",
     "text": [
      "the target item is not found\n",
      "the target item is not found\n",
      "the target item is not found\n",
      "the target item is not found\n",
      "the target item is not found\n",
      "the target item is not found\n",
      "the target item is not found\n"
     ]
    }
   ],
   "source": [
    "def linearSearch(a,tarItem):\n",
    "    flag=0\n",
    "    for i in range(len(a)):\n",
    "        if(a[i]==tarItem):\n",
    "            flag =1\n",
    "            break\n",
    "        if(flag!=0):\n",
    "            print(\"the target item is found\")\n",
    "        else:\n",
    "            print(\"the target item is not found\")\n",
    "a=[16,2,12,6,9,7,1]\n",
    "linearSearch(a,61)"
   ]
  },
  {
   "cell_type": "code",
   "execution_count": 62,
   "metadata": {},
   "outputs": [
    {
     "name": "stdout",
     "output_type": "stream",
     "text": [
      "2\n"
     ]
    }
   ],
   "source": [
    "def linearSearchDuplicate(a,tarItem):\n",
    "    flag=0\n",
    "    for i in range(len(a)):\n",
    "        if(a[i]==tarItem):\n",
    "            flag=flag+1    \n",
    "    print(flag)\n",
    "   \n",
    "a=[9,1,6,1,5,9,15,16]\n",
    "linearSearchDuplicate(a,9)"
   ]
  },
  {
   "cell_type": "code",
   "execution_count": 12,
   "metadata": {},
   "outputs": [
    {
     "name": "stdout",
     "output_type": "stream",
     "text": [
      "!!\n",
      "!!!!!\n",
      "!!!!!!!!\n"
     ]
    }
   ],
   "source": [
    "def linearExample(a,tarItem): \n",
    "    flag=0\n",
    "    for i in range(len(a)):\n",
    "        if(a[i]==tarItem):\n",
    "            for i in range(i+1):\n",
    "                print(\"!\",end='')\n",
    "            print()\n",
    "   \n",
    "a=[1,5,9,6,5,15,12,5]\n",
    "linearExample(a,5)"
   ]
  },
  {
   "cell_type": "code",
   "execution_count": 13,
   "metadata": {},
   "outputs": [
    {
     "name": "stdout",
     "output_type": "stream",
     "text": [
      "1 4 7 "
     ]
    }
   ],
   "source": [
    "def linearExample(a,tarItem): \n",
    "    flag=0\n",
    "    for i in range(len(a)):\n",
    "        if(a[i]==tarItem):\n",
    "            print(i,end=\" \")\n",
    "   \n",
    "a=[1,5,9,6,5,15,12,5]\n",
    "linearExample(a,5)"
   ]
  },
  {
   "cell_type": "code",
   "execution_count": 15,
   "metadata": {},
   "outputs": [
    {
     "name": "stdout",
     "output_type": "stream",
     "text": [
      "60\n"
     ]
    }
   ],
   "source": [
    "def perfectMultiples(a):\n",
    "    sum=0\n",
    "    for i in range(len(a)):\n",
    "        if(a[i]%3==0 and a[i]%5==0):\n",
    "            sum=sum+a[i]\n",
    "    print(sum)       \n",
    "a=[12,3,6,10,15,45]\n",
    "perfectMultiples(a);"
   ]
  },
  {
   "cell_type": "code",
   "execution_count": 11,
   "metadata": {},
   "outputs": [
    {
     "name": "stdout",
     "output_type": "stream",
     "text": [
      "1 3 8 15 5 "
     ]
    }
   ],
   "source": [
    "def format(a):\n",
    "    for i in range(len(a)):\n",
    "        if(i==0 or i==(len(a)-1)):\n",
    "            print(a[i],end=\" \")\n",
    "        else:\n",
    "            print(a[i-1]*a[i+1],end=\" \")\n",
    "a=[1,2,3,4,5]\n",
    "format(a);"
   ]
  },
  {
   "cell_type": "code",
   "execution_count": 12,
   "metadata": {},
   "outputs": [
    {
     "name": "stdout",
     "output_type": "stream",
     "text": [
      "1 9 19 22 "
     ]
    }
   ],
   "source": [
    "def format(a):\n",
    "    for i in range(len(a)):\n",
    "        if(i==0 or i==(len(a)-1)):\n",
    "            print(a[i],end=\" \")\n",
    "        elif(a[i-1]%2==0 and a[i+1]%2==0):\n",
    "            print(a[i],end=\" \")\n",
    "            \n",
    "a=[1,6,9,4,16,19,22]\n",
    "format(a);"
   ]
  },
  {
   "cell_type": "code",
   "execution_count": 21,
   "metadata": {},
   "outputs": [
    {
     "name": "stdout",
     "output_type": "stream",
     "text": [
      "enter the number125645\n",
      "[1, 2, 5, 6, 4, 5]\n"
     ]
    }
   ],
   "source": [
    "def list(n):\n",
    "    list=[]\n",
    "    while(n!=0):\n",
    "        r=n%10\n",
    "        list.append(r)\n",
    "        n=n//10\n",
    "    list.reverse()\n",
    "    print(list)\n",
    "    \n",
    "n=int(input(\"enter the number\"))\n",
    "list(n)\n",
    "    "
   ]
  },
  {
   "cell_type": "code",
   "execution_count": 33,
   "metadata": {},
   "outputs": [
    {
     "name": "stdout",
     "output_type": "stream",
     "text": [
      "[4, 6]\n"
     ]
    }
   ],
   "source": [
    "def printEven(a):\n",
    "    output=[]\n",
    "    for i in range(len(a)):\n",
    "        if(a[i]%2==0):\n",
    "            output.append(a[i])\n",
    "            #print(a[i],end=\" \")\n",
    "    return output\n",
    "a=[1,4,5,6,9]\n",
    "print(printEven(a))"
   ]
  },
  {
   "cell_type": "code",
   "execution_count": 34,
   "metadata": {},
   "outputs": [
    {
     "name": "stdout",
     "output_type": "stream",
     "text": [
      "4 6 "
     ]
    }
   ],
   "source": [
    "def printEven(a):\n",
    "    for i in range(len(a)):\n",
    "        if(a[i]%2==0):\n",
    "            print(a[i],end=\" \")\n",
    "            \n",
    "a=[1,4,5,6,9]\n",
    "printEven(a)"
   ]
  },
  {
   "cell_type": "code",
   "execution_count": 38,
   "metadata": {},
   "outputs": [
    {
     "name": "stdout",
     "output_type": "stream",
     "text": [
      "1 4 5 6 9 "
     ]
    }
   ],
   "source": [
    "def list(a):\n",
    "    for i in range(len(a)):\n",
    "        print(a[i],end=\" \")\n",
    "a=[1,4,5,6,9]\n",
    "list(a)"
   ]
  },
  {
   "cell_type": "code",
   "execution_count": 43,
   "metadata": {},
   "outputs": [
    {
     "name": "stdout",
     "output_type": "stream",
     "text": [
      "1 3 5 7 5 "
     ]
    }
   ],
   "source": [
    "def sum(a):\n",
    "    for i in range(len(a)):\n",
    "        if(i==0 or i==(len(a)-1)):\n",
    "            print(a[i],end=\" \")\n",
    "        else:\n",
    "            print(a[i]+a[i-1],end=\" \")\n",
    "a=[1,2,3,4,5]\n",
    "sum(a);"
   ]
  },
  {
   "cell_type": "code",
   "execution_count": 46,
   "metadata": {},
   "outputs": [
    {
     "name": "stdout",
     "output_type": "stream",
     "text": [
      "1 4 3 16 5 36 "
     ]
    }
   ],
   "source": [
    "def list(n):\n",
    "    for i in range(len(a)):\n",
    "        if(i%2==0):\n",
    "            print(a[i],end=\" \")\n",
    "        else:    \n",
    "            print(a[i]*a[i],end=\" \")\n",
    "a=[1,2,3,4,5,6]\n",
    "list(n)"
   ]
  },
  {
   "cell_type": "code",
   "execution_count": null,
   "metadata": {},
   "outputs": [],
   "source": []
  }
 ],
 "metadata": {
  "kernelspec": {
   "display_name": "Python 3",
   "language": "python",
   "name": "python3"
  },
  "language_info": {
   "codemirror_mode": {
    "name": "ipython",
    "version": 3
   },
   "file_extension": ".py",
   "mimetype": "text/x-python",
   "name": "python",
   "nbconvert_exporter": "python",
   "pygments_lexer": "ipython3",
   "version": "3.7.3"
  }
 },
 "nbformat": 4,
 "nbformat_minor": 2
}
