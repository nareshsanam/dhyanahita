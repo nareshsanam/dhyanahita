{
 "cells": [
  {
   "cell_type": "code",
   "execution_count": 5,
   "metadata": {},
   "outputs": [
    {
     "name": "stdout",
     "output_type": "stream",
     "text": [
      "File is created successfully and Data is written\n"
     ]
    }
   ],
   "source": [
    "def createFile(filename):\n",
    "    f=open(filename,\"w\")\n",
    "    for i in range(10):\n",
    "        f.write(\"This is %d line\\n\" %i)\n",
    "    print(\"File is created successfully and Data is written\")    \n",
    "    f.close()\n",
    "    return\n",
    "createFile(\"file1.txt\")"
   ]
  },
  {
   "cell_type": "code",
   "execution_count": 4,
   "metadata": {},
   "outputs": [
    {
     "name": "stdout",
     "output_type": "stream",
     "text": [
      "/home/student\n"
     ]
    }
   ],
   "source": [
    "import os\n",
    "print(os.getcwd())"
   ]
  },
  {
   "cell_type": "code",
   "execution_count": 10,
   "metadata": {},
   "outputs": [
    {
     "name": "stdout",
     "output_type": "stream",
     "text": [
      "Test is 0 line\n",
      "Test is 1 line\n",
      "Test is 2 line\n",
      "Test is 3 line\n",
      "Test is 4 line\n",
      "Test is 5 line\n",
      "Test is 6 line\n",
      "Test is 7 line\n",
      "Test is 8 line\n",
      "Test is 9 line\n",
      "New Line 1\n",
      "New line 2\n",
      "\n"
     ]
    }
   ],
   "source": [
    "def readFile(filename):\n",
    "    f=open(filename,\"r\")\n",
    "    if f.mode==\"r\":\n",
    "        x=f.read()\n",
    "        print(x)\n",
    "    f.close()\n",
    "    return\n",
    "readFile(\"file1.txt\")"
   ]
  },
  {
   "cell_type": "code",
   "execution_count": 7,
   "metadata": {},
   "outputs": [
    {
     "name": "stdout",
     "output_type": "stream",
     "text": [
      "File is created successfully and Data is written\n"
     ]
    }
   ],
   "source": [
    "def createFile(filename):\n",
    "    f=open(filename,\"w\")\n",
    "    for i in range(10):\n",
    "        f.write(\"Test is %d line\\n\" %i)\n",
    "    print(\"File is created successfully and Data is written\")    \n",
    "    f.close()\n",
    "    return\n",
    "createFile(\"file1.txt\")"
   ]
  },
  {
   "cell_type": "code",
   "execution_count": 16,
   "metadata": {},
   "outputs": [],
   "source": [
    " def appendData(filename):\n",
    "        f=open(filename,\"a\")\n",
    "        f.write(\"New line 1\\n\")\n",
    "        f.write(\"New line 2\\n\")\n",
    "        return\n",
    "appendData(\"file1.txt\")    "
   ]
  },
  {
   "cell_type": "code",
   "execution_count": 17,
   "metadata": {},
   "outputs": [
    {
     "name": "stdout",
     "output_type": "stream",
     "text": [
      "Test is 0 line\n",
      "Test is 1 line\n",
      "Test is 2 line\n",
      "Test is 3 line\n",
      "Test is 4 line\n",
      "Test is 5 line\n",
      "Test is 6 line\n",
      "Test is 7 line\n",
      "Test is 8 line\n",
      "Test is 9 line\n",
      "New Line 1\n",
      "New line 2\n",
      "New line 1\n",
      "New line 2\n",
      "New line 1\n",
      "New line 2\n",
      "\n"
     ]
    }
   ],
   "source": [
    "def readFile(filename):\n",
    "    f=open(filename,\"r\")\n",
    "    if f.mode==\"r\":\n",
    "        x=f.read()\n",
    "        print(x)\n",
    "    f.close()\n",
    "    return\n",
    "readFile(\"file1.txt\")"
   ]
  },
  {
   "cell_type": "code",
   "execution_count": 18,
   "metadata": {},
   "outputs": [
    {
     "name": "stdout",
     "output_type": "stream",
     "text": [
      "4\n",
      "15\n"
     ]
    }
   ],
   "source": [
    "def dataAnalysisWordCount(filename,word):\n",
    "    f=open(filename,\"r\")\n",
    "    if f.mode==\"r\":\n",
    "        x=f.read()\n",
    "        lst=x.split()\n",
    "    cnt=lst.count(word)\n",
    "    return cnt\n",
    "print(dataAnalysisWordCount(\"file1.txt\",\"1\"))\n",
    "print(dataAnalysisWordCount(\"file1.txt\",\"line\"))"
   ]
  },
  {
   "cell_type": "code",
   "execution_count": 22,
   "metadata": {},
   "outputs": [
    {
     "name": "stdout",
     "output_type": "stream",
     "text": [
      "216\n"
     ]
    }
   ],
   "source": [
    "#function to count characters in a given file\n",
    "def countCharacters(filename):\n",
    "    f=open(filename,\"r\")\n",
    "    if f.mode==\"r\":\n",
    "        x=f.read()\n",
    "        lst=list(x)\n",
    "    return len(lst)\n",
    "print(countCharacters(\"file1.txt\"))\n",
    "        \n",
    "    \n"
   ]
  },
  {
   "cell_type": "code",
   "execution_count": 28,
   "metadata": {},
   "outputs": [
    {
     "name": "stdout",
     "output_type": "stream",
     "text": [
      "17\n"
     ]
    }
   ],
   "source": [
    "#function to count the upper case characters\n",
    "def countUpper(filename):\n",
    "    cnt=0\n",
    "    f=open(filename,\"r\")\n",
    "    if f.mode==\"r\":\n",
    "        x=f.read()\n",
    "        lst=list(x)\n",
    "    for i in lst:\n",
    "        if i.isupper():\n",
    "            cnt=cnt+1\n",
    "    return cnt\n",
    "print(countUpper(\"file1.txt\"))"
   ]
  },
  {
   "cell_type": "code",
   "execution_count": 29,
   "metadata": {},
   "outputs": [
    {
     "name": "stdout",
     "output_type": "stream",
     "text": [
      "Test is 0 line\r\n",
      "Test is 1 line\r\n",
      "Test is 2 line\r\n",
      "Test is 3 line\r\n",
      "Test is 4 line\r\n",
      "Test is 5 line\r\n",
      "Test is 6 line\r\n",
      "Test is 7 line\r\n",
      "Test is 8 line\r\n",
      "Test is 9 line\r\n",
      "New Line 1\r\n",
      "New line 2\r\n",
      "New line 1\r\n",
      "New line 2\r\n",
      "New line 1\r\n",
      "New line 2\r\n"
     ]
    }
   ],
   "source": [
    "cat file1.txt"
   ]
  },
  {
   "cell_type": "code",
   "execution_count": 36,
   "metadata": {},
   "outputs": [
    {
     "name": "stdout",
     "output_type": "stream",
     "text": [
      "16\n"
     ]
    }
   ],
   "source": [
    "#Function to count the lines in a file\n",
    "def countLines(filename):\n",
    "    cnt=0\n",
    "    f=open(filename,\"r\")\n",
    "    if f.mode==\"r\":\n",
    "        x=f.read()\n",
    "        lst=list(x)\n",
    "    for i in lst:\n",
    "        if(i==\"\\n\"):\n",
    "            cnt=cnt+1\n",
    "    return cnt \n",
    "print(countLines(\"file1.txt\"))    "
   ]
  },
  {
   "cell_type": "code",
   "execution_count": null,
   "metadata": {},
   "outputs": [],
   "source": [
    "#Expressions for Indian mobile number\n",
    "# 9561245123 first digit --[6-9] second digit --[0-9]\n",
    "#09541256321 first digit --[0]   second digit --[6-9]   third digit --[0-9]\n",
    "# +91 6985214750 [+] first digit --[9]  second digit --[1] third digit --[6-9] fourth digit --[0-9]\n"
   ]
  },
  {
   "cell_type": "code",
   "execution_count": 25,
   "metadata": {},
   "outputs": [
    {
     "name": "stdout",
     "output_type": "stream",
     "text": [
      "True\n",
      "False\n",
      "True\n",
      "True\n"
     ]
    }
   ],
   "source": [
    "import re\n",
    "def phoneNumberValidate(phone):\n",
    "    pattern= '^[6-9][0-9]{9}$|^[0][6-9][0-9]{9}$|^[+][9][1][6-9][0-9]{9}$'\n",
    "    phone = str(phone)\n",
    "    if re.match(pattern,phone):\n",
    "        return True\n",
    "    return False\n",
    "print(phoneNumberValidate(\"9524123625\"))\n",
    "print(phoneNumberValidate(\"5245813125\"))\n",
    "print(phoneNumberValidate(\"+918524123641\"))\n",
    "print(phoneNumberValidate(\"08541236971\"))"
   ]
  },
  {
   "cell_type": "code",
   "execution_count": 26,
   "metadata": {},
   "outputs": [
    {
     "name": "stdout",
     "output_type": "stream",
     "text": [
      "True\n"
     ]
    }
   ],
   "source": [
    "#Validation of mobile number\n",
    "def rollNumberValidation(number):\n",
    "    number=str(number)\n",
    "    pattern='^[1][5][2][U][1][A][0][1-9][0-6][0-9]$'\n",
    "    if re.match(pattern,number):\n",
    "        return True\n",
    "    return False\n",
    "print(rollNumberValidation(\"152U1A0935\"))"
   ]
  },
  {
   "cell_type": "code",
   "execution_count": null,
   "metadata": {},
   "outputs": [],
   "source": [
    "#Validation for Email Id\n",
    "#username@DomainName.Extension\n",
    "\n",
    " #parameters od userName\n",
    "     #lenght: 6-15\n",
    "     #should not start or end with _\n",
    "     #Character set : All digits and lower case alphabets\n",
    " #parameters of domain\n",
    "    #length(3-18)\n",
    "    #no special names\n",
    "    #Character set : all digits and lower case alphabets\n",
    " #parameters of Extension\n",
    "    #length(2-4)\n",
    "    #no special characters\n",
    "    #Character set : all digits and lower case alphabets\n"
   ]
  },
  {
   "cell_type": "code",
   "execution_count": 34,
   "metadata": {},
   "outputs": [
    {
     "name": "stdout",
     "output_type": "stream",
     "text": [
      "True\n",
      "True\n"
     ]
    }
   ],
   "source": [
    "#Validation for Email Id\n",
    "def validateEmail(email):\n",
    "    pattern='^[0-9a-z][0-9a-z_.]{5,14}[0-9a-z][@][a-z0-9]{3,18}[.][a-z]{2,4}$'\n",
    "    email=str(email)\n",
    "    if re.match(pattern,email):\n",
    "        return True\n",
    "    return False\n",
    "print(validateEmail(\"manasa.dubbaka19@gmail.com\"))\n",
    "print(validateEmail(\"hello_45@gmail.com\"))"
   ]
  },
  {
   "cell_type": "code",
   "execution_count": null,
   "metadata": {},
   "outputs": [],
   "source": [
    "#Validation for password\n",
    "#parameters : 6-15\n",
    "#accept special characters(@,#,$,_)\n",
    "#lower and upper case characters\n"
   ]
  },
  {
   "cell_type": "code",
   "execution_count": 37,
   "metadata": {},
   "outputs": [
    {
     "name": "stdout",
     "output_type": "stream",
     "text": [
      "True\n",
      "True\n"
     ]
    }
   ],
   "source": [
    "#Validation of password\n",
    "def validatePassword(password):\n",
    "    pattern='^[a-zA-Z0-9@#$_]{5,15}$'\n",
    "    password=str(password)\n",
    "    if re.match(pattern,password):\n",
    "        return True\n",
    "    return False\n",
    "print(validatePassword(\"ma19@gmcom\"))\n",
    "print(validatePassword(\"hello_45@78\"))"
   ]
  },
  {
   "cell_type": "code",
   "execution_count": 38,
   "metadata": {},
   "outputs": [
    {
     "name": "stdout",
     "output_type": "stream",
     "text": [
      "File is created successfully and Data is written\n"
     ]
    }
   ],
   "source": [
    "#creating a new file\n",
    "def createFile(filename):\n",
    "    f=open(filename,\"w\")\n",
    "    for i in range(10):\n",
    "        f.write(\"This is %d line\\n\" %i)\n",
    "    print(\"File is created successfully and Data is written\")    \n",
    "    f.close()\n",
    "    return\n",
    "createFile(\"file2.txt\")"
   ]
  },
  {
   "cell_type": "code",
   "execution_count": 39,
   "metadata": {},
   "outputs": [
    {
     "name": "stdout",
     "output_type": "stream",
     "text": [
      "This is 0 line\n",
      "This is 1 line\n",
      "This is 2 line\n",
      "This is 3 line\n",
      "This is 4 line\n",
      "This is 5 line\n",
      "This is 6 line\n",
      "This is 7 line\n",
      "This is 8 line\n",
      "This is 9 line\n",
      "\n"
     ]
    }
   ],
   "source": [
    "#reading the file\n",
    "def readFile(filename):\n",
    "    f=open(filename,\"r\")\n",
    "    if f.mode==\"r\":\n",
    "        x=f.read()\n",
    "        print(x)\n",
    "    f.close()\n",
    "    return\n",
    "readFile(\"file2.txt\")"
   ]
  },
  {
   "cell_type": "code",
   "execution_count": 40,
   "metadata": {},
   "outputs": [
    {
     "name": "stdout",
     "output_type": "stream",
     "text": [
      "90\n"
     ]
    }
   ],
   "source": [
    "#count of lower case characters\n",
    "def countLower(filename):\n",
    "    cnt=0\n",
    "    f=open(filename,\"r\")\n",
    "    if f.mode==\"r\":\n",
    "        x=f.read()\n",
    "        lst=list(x)\n",
    "    for i in lst:\n",
    "        if i.islower():\n",
    "            cnt=cnt+1\n",
    "    return cnt\n",
    "print(countLower(\"file2.txt\"))\n",
    "    "
   ]
  },
  {
   "cell_type": "code",
   "execution_count": 42,
   "metadata": {},
   "outputs": [
    {
     "name": "stdout",
     "output_type": "stream",
     "text": [
      "10\n"
     ]
    }
   ],
   "source": [
    "#count of digits\n",
    "def countDigit(filename):\n",
    "    cnt=0\n",
    "    f=open(filename,\"r\")\n",
    "    if f.mode==\"r\":\n",
    "        x=f.read()\n",
    "        lst=list(x)\n",
    "    for i in lst:\n",
    "        if(i>='0'and i<='9'):\n",
    "            cnt=cnt+1\n",
    "    return cnt\n",
    "print(countDigit(\"file2.txt\"))\n",
    "    "
   ]
  },
  {
   "cell_type": "code",
   "execution_count": 43,
   "metadata": {},
   "outputs": [],
   "source": [
    " def appendData(filename):\n",
    "        f=open(filename,\"a\")\n",
    "        f.write(\"New line 1 #\\n\")\n",
    "        f.write(\"New line 2 @\\n\")\n",
    "        f.write(\"$_$ \\n\")\n",
    "        return\n",
    "appendData(\"file2.txt\")    "
   ]
  },
  {
   "cell_type": "code",
   "execution_count": 44,
   "metadata": {},
   "outputs": [
    {
     "name": "stdout",
     "output_type": "stream",
     "text": [
      "This is 0 line\n",
      "This is 1 line\n",
      "This is 2 line\n",
      "This is 3 line\n",
      "This is 4 line\n",
      "This is 5 line\n",
      "This is 6 line\n",
      "This is 7 line\n",
      "This is 8 line\n",
      "This is 9 line\n",
      "New line 1 #\n",
      "New line 2 @\n",
      "$_$ \n",
      "\n"
     ]
    }
   ],
   "source": [
    "#reading the file\n",
    "def readFile(filename):\n",
    "    f=open(filename,\"r\")\n",
    "    if f.mode==\"r\":\n",
    "        x=f.read()\n",
    "        print(x)\n",
    "    f.close()\n",
    "    return\n",
    "readFile(\"file2.txt\")"
   ]
  },
  {
   "cell_type": "code",
   "execution_count": 54,
   "metadata": {},
   "outputs": [
    {
     "name": "stdout",
     "output_type": "stream",
     "text": [
      "55\n"
     ]
    }
   ],
   "source": [
    "#count of special characters(\"!,@,#,$,%,^,&,*,(,),_,+,\\n,space\")\n",
    "def countCharacters(filename):\n",
    "    alphabets =0\n",
    "    digits=0\n",
    "    special=0\n",
    "    f=open(filename,\"r\")\n",
    "    if f.mode==\"r\":\n",
    "        x=f.read()\n",
    "        lst=list(x)\n",
    "        for i in lst:\n",
    "            if((i >= 'a' and i <= 'z') or (i >= 'A' and i <= 'Z')): \n",
    "                alphabets = alphabets + 1 \n",
    "            elif(i >= '0' and i <= '9'):\n",
    "                digits = digits + 1\n",
    "            else:\n",
    "                special = special + 1\n",
    "    return special\n",
    "print(countCharacters(\"file2.txt\"))\n",
    "        "
   ]
  },
  {
   "cell_type": "code",
   "execution_count": 58,
   "metadata": {},
   "outputs": [
    {
     "name": "stdout",
     "output_type": "stream",
     "text": [
      "File is created successfully and Data is written\n"
     ]
    }
   ],
   "source": [
    "# create a file which these parameters name,emailId,mobile number\n",
    "def createFile(filename):\n",
    "    f=open(filename,\"w\")\n",
    "    f.write(\"Name: Manasa\\n\")\n",
    "    f.write(\"Email: manasa.dubbaka19@gmail.com\\n\")\n",
    "    f.write(\"Mobile number: 9845212563\\n\")\n",
    "   \n",
    "    print(\"File is created successfully and Data is written\")    \n",
    "    f.close()\n",
    "    return\n",
    "createFile(\"file3.txt\")"
   ]
  },
  {
   "cell_type": "code",
   "execution_count": 59,
   "metadata": {},
   "outputs": [
    {
     "name": "stdout",
     "output_type": "stream",
     "text": [
      "Name: Manasa\n",
      "Email: manasa.dubbaka19@gmail.com\n",
      "Mobile number: 9845212563\n",
      "\n"
     ]
    }
   ],
   "source": [
    "#reading the file\n",
    "def readFile(filename):\n",
    "    f=open(filename,\"r\")\n",
    "    if f.mode==\"r\":\n",
    "        x=f.read()\n",
    "        print(x)\n",
    "    f.close()\n",
    "    return\n",
    "readFile(\"file3.txt\")"
   ]
  },
  {
   "cell_type": "code",
   "execution_count": null,
   "metadata": {},
   "outputs": [],
   "source": []
  }
 ],
 "metadata": {
  "kernelspec": {
   "display_name": "Python 3",
   "language": "python",
   "name": "python3"
  },
  "language_info": {
   "codemirror_mode": {
    "name": "ipython",
    "version": 3
   },
   "file_extension": ".py",
   "mimetype": "text/x-python",
   "name": "python",
   "nbconvert_exporter": "python",
   "pygments_lexer": "ipython3",
   "version": "3.7.3"
  }
 },
 "nbformat": 4,
 "nbformat_minor": 2
}
